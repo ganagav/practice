{
 "cells": [
  {
   "cell_type": "markdown",
   "id": "2c7680a2",
   "metadata": {},
   "source": [
    "# This is a title. Use hashtags to make a title. Put a space after the hashtag.\n",
    "## This is a subtitle. Use two hashtags to make a subtitle. Put a space after the hashtags.\n",
    "\n",
    "This is an test notebook for me to get used to Jupyter.\n",
    "\n",
    "1. I can apparently make lists two.\n",
    "2. This is item two.\n",
    "3. This is item three. I have to number it myself, though.\n",
    "\n",
    "I don't know what an asterisk does. Also, this is plain text."
   ]
  },
  {
   "cell_type": "code",
   "execution_count": 1,
   "id": "9772b561",
   "metadata": {},
   "outputs": [],
   "source": [
    "# This cell, however, is code. This will use Python. Jupyter runs a Python kernel environment in the background."
   ]
  },
  {
   "cell_type": "code",
   "execution_count": 2,
   "id": "f7ecf6b7",
   "metadata": {},
   "outputs": [
    {
     "name": "stdout",
     "output_type": "stream",
     "text": [
      "Hello world!\n"
     ]
    }
   ],
   "source": [
    "print(\"Hello world!\")"
   ]
  },
  {
   "cell_type": "code",
   "execution_count": 4,
   "id": "17611560",
   "metadata": {},
   "outputs": [],
   "source": [
    "# I can also import things. Neat."
   ]
  },
  {
   "cell_type": "code",
   "execution_count": null,
   "id": "18278a19",
   "metadata": {},
   "outputs": [],
   "source": []
  }
 ],
 "metadata": {
  "kernelspec": {
   "display_name": "Python 3 (ipykernel)",
   "language": "python",
   "name": "python3"
  },
  "language_info": {
   "codemirror_mode": {
    "name": "ipython",
    "version": 3
   },
   "file_extension": ".py",
   "mimetype": "text/x-python",
   "name": "python",
   "nbconvert_exporter": "python",
   "pygments_lexer": "ipython3",
   "version": "3.11.5"
  }
 },
 "nbformat": 4,
 "nbformat_minor": 5
}
